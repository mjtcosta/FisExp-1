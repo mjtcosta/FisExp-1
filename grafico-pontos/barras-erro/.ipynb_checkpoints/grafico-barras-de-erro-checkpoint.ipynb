{
 "cells": [
  {
   "cell_type": "markdown",
   "metadata": {},
   "source": [
    "# Gráfico de Pontos\n",
    "\n",
    "## Este python notebook produz um gráfico de pontos.\n",
    "\n",
    "## Este estudo faz parte do curso de Física I Experimental do Instituto de Física da Universidade Federal Fluminense\n",
    "https://portal.if.uff.br/"
   ]
  },
  {
   "cell_type": "code",
   "execution_count": 1,
   "metadata": {},
   "outputs": [],
   "source": [
    "import matplotlib.pyplot as plt # biblioteca para gráficos \n",
    "import numpy as np              # biblioteca matemática\n",
    "\n",
    "####################################################\n",
    "# definindo fonte\n",
    "####################################################\n",
    "hfont = {'fontname':'Helvetica'}\n"
   ]
  },
  {
   "cell_type": "code",
   "execution_count": 3,
   "metadata": {},
   "outputs": [],
   "source": [
    "####################################################\n",
    "# incializando o array data com os valores contidos em data.dat\n",
    "####################################################\n",
    "# O arquivo data.dat possui 3 colunas. \n",
    "# Primeira, eixo x.\n",
    "# Segunda , eixo y.\n",
    "# Terceira, barras de erro.\n",
    "\n",
    "x   = np.loadtxt(\"./data.dat\",usecols=0) \n",
    "y   = np.loadtxt(\"./data.dat\",usecols=1)\n",
    "inc = np.loadtxt(\"./data.dat\",usecols=2)\n"
   ]
  },
  {
   "cell_type": "code",
   "execution_count": 8,
   "metadata": {},
   "outputs": [
    {
     "data": {
      "image/png": "[encoded data removed]",
      "text/plain": [
       "<Figure size 432x288 with 1 Axes>"
      ]
     },
     "metadata": {
      "needs_background": "light"
     },
     "output_type": "display_data"
    }
   ],
   "source": [
    "####################################################\n",
    "# Ajustando detalhes do gráfico\n",
    "####################################################\n",
    "# descrição eixo-x\n",
    "plt.xlabel('X (m)',fontsize=15,**hfont) \n",
    "\n",
    "# descrição eixo-y\n",
    "plt.ylabel('Y (m)',fontsize=15,**hfont)          \n",
    "\n",
    "# Título do gráfico\n",
    "plt.title('Gráfico Barras de Erro',fontsize=15,**hfont)\n",
    "\n",
    "# Tamanho e tipo das fontes para o eixo x e y\n",
    "plt.xticks(fontsize=12, rotation=0,**hfont)\n",
    "plt.yticks(fontsize=12, rotation=0,**hfont)\n",
    "\n",
    "\n",
    "####################################################\n",
    "# Gerando gráfico\n",
    "####################################################\n",
    "\n",
    "plt.errorbar(x, y,inc,fmt='ro',markersize=8,capsize=5)\n",
    "\n",
    "# fmt        - formato dos pontos. Neste caso \"red circles\", círculos vermel\n",
    "# markersize - tamanho dos pontos.\n",
    "# capsize    - Tamanho da linha horizontal das barras de erro.\n",
    "\n",
    "# veja documentação da função errorbar.\n",
    "# https://matplotlib.org/stable/api/_as_gen/matplotlib.pyplot.errorbar.html\n",
    "\n",
    "####################################################\n",
    "# salvando para um arquivo\n",
    "####################################################\n",
    "plt.savefig('grafico-barras-de-erro.jpg', dpi=300, bbox_inches='tight')\n",
    "\n",
    "####################################################\n",
    "# Mostrando o gráfico\n",
    "####################################################\n",
    "plt.show()"
   ]
  },
  {
   "cell_type": "code",
   "execution_count": null,
   "metadata": {},
   "outputs": [],
   "source": []
  }
 ],
 "metadata": {
  "kernelspec": {
   "display_name": "Python 3",
   "language": "python",
   "name": "python3"
  },
  "language_info": {
   "codemirror_mode": {
    "name": "ipython",
    "version": 3
   },
   "file_extension": ".py",
   "mimetype": "text/x-python",
   "name": "python",
   "nbconvert_exporter": "python",
   "pygments_lexer": "ipython3",
   "version": "3.7.7"
  }
 },
 "nbformat": 4,
 "nbformat_minor": 4
}
