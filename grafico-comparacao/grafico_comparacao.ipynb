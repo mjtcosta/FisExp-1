{
 "cells": [
  {
   "cell_type": "markdown",
   "metadata": {},
   "source": [
    "# Gráfico de Comparação\n",
    "\n",
    "## Este python notebook produz um gráfico de comparação para três conjuntos de dados de um pendulo simples com comprimento L=39.5 cm. Veja figura 17 do capítulo 3.\n",
    "\n",
    "## Este estudo faz parte do curso de Física I Experimental do Instituto de Física da Universidade Federal Fluminense\n",
    "\n",
    "https://portal.if.uff.br/"
   ]
  },
  {
   "cell_type": "code",
   "execution_count": 5,
   "metadata": {},
   "outputs": [],
   "source": [
    "# importando as bibliotecas\n",
    "import numpy as np               # biblioteca matemática \n",
    "import matplotlib.pyplot as plt  # biblioteca para gráficos\n",
    "\n",
    "####################################################\n",
    "# definindo fonte\n",
    "####################################################\n",
    "hfont = {'fontname':'Helvetica'}\n"
   ]
  },
  {
   "cell_type": "code",
   "execution_count": 6,
   "metadata": {},
   "outputs": [],
   "source": [
    "####################################################\n",
    "# Introduzindo dados manualmente\n",
    "####################################################\n",
    "x   = np.array([1,2,3])          # resultados 1,2,3\n",
    "y   = np.array([1.27,1.32,1.29]) # valor médio do período\n",
    "\n",
    "inc = np.array([0.01,0.02,0.02]) # incerteza em no período\n",
    "\n",
    "\n"
   ]
  },
  {
   "cell_type": "code",
   "execution_count": 7,
   "metadata": {},
   "outputs": [
    {
     "data": {
      "image/png": "[encoded data removed]",
      "text/plain": [
       "<Figure size 432x288 with 1 Axes>"
      ]
     },
     "metadata": {
      "needs_background": "light"
     },
     "output_type": "display_data"
    }
   ],
   "source": [
    "#####################################################\n",
    "## Inicializado o gráfico\n",
    "####################################################\n",
    "fig, ax = plt.subplots()\n",
    "\n",
    "####################################################    \n",
    "# Descrição e ajustes dos eixos\n",
    "####################################################\n",
    "plt.ylabel('Período de Oscilações (s)',fontsize=15,**hfont)\n",
    "plt.yticks(fontsize=12, rotation=0,**hfont) \n",
    "# Tamanho e tipo das fontes para o eixo y\n",
    "\n",
    "####################################################\n",
    "# Removendo os parametros do eixo-x\n",
    "####################################################\n",
    "plt.tick_params(\n",
    "    axis='x',          \n",
    "    which='both',      \n",
    "    bottom=False,      \n",
    "    top=False,         \n",
    "    labelbottom=False) \n",
    "\n",
    "\n",
    "####################################################\n",
    "# Incluindo Grid\n",
    "####################################################\n",
    "plt.grid(True,axis='y',alpha=0.8,linestyle=\"--\")\n",
    "# alpha     - da uma tranparência as linhas\n",
    "# linestyle - Estilo das linhas. Neste caso tracejada.\n",
    "\n",
    "\n",
    "####################################################\n",
    "# Texto para identificar os conjuntos de dados\n",
    "####################################################\n",
    "plt.text(0.7, 1.25, r'resultado 1', fontsize=15,**hfont)\n",
    "plt.text(1.7, 1.29, r'resultado 2', fontsize=15,**hfont)\n",
    "plt.text(2.7, 1.25, r'resultado 3', fontsize=15,**hfont)\n",
    "# dois primeiros parametros são posição\n",
    "# o terceiro o texto\n",
    "\n",
    "\n",
    "####################################################\n",
    "# Incluindo linha horizontal para valor esperado\n",
    "####################################################\n",
    "plt.axhline(1.262, 0, 1,color=\"red\",linestyle=\"-.\") \n",
    "# para o comprimento de 39.5 cm o valor esperado período\n",
    "# do pêndulo é T=1.262 s.\n",
    "\n",
    "\n",
    "####################################################\n",
    "# gerando gráfico com barras de erro.\n",
    "####################################################\n",
    "plt.errorbar(x, y, yerr=inc, fmt='o', markersize=8, capsize=5)\n",
    "# fmt        - formato dos pontos.\n",
    "# markersize - tamanho dos pontos.\n",
    "# capsize    - Tamanho do traço superior e inferior da barra de erro. \n",
    "\n",
    "####################################################\n",
    "# salvando para um arquivo\n",
    "####################################################\n",
    "plt.savefig('grafico-comparacao.jpg', dpi=300, bbox_inches='tight')\n",
    "\n",
    "####################################################\n",
    "# Mostrando o gráfico\n",
    "####################################################\n",
    "plt.show()\n"
   ]
  },
  {
   "cell_type": "code",
   "execution_count": null,
   "metadata": {},
   "outputs": [],
   "source": []
  }
 ],
 "metadata": {
  "kernelspec": {
   "display_name": "Python 3",
   "language": "python",
   "name": "python3"
  },
  "language_info": {
   "codemirror_mode": {
    "name": "ipython",
    "version": 3
   },
   "file_extension": ".py",
   "mimetype": "text/x-python",
   "name": "python",
   "nbconvert_exporter": "python",
   "pygments_lexer": "ipython3",
   "version": "3.7.7"
  }
 },
 "nbformat": 4,
 "nbformat_minor": 4
}
