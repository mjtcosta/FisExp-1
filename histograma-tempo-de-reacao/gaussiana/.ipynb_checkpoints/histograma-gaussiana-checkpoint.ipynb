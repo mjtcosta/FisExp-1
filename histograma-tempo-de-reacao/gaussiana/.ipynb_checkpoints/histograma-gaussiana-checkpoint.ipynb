{
 "cells": [
  {
   "cell_type": "markdown",
   "metadata": {},
   "source": [
    "# Tempo de Reação\n",
    "\n",
    "## Este python notebook produz um histograma  junto com uma curva gaussiana para um conjunto de dados relativo ao tempo de reação devido ao um estímulo visual. Os dados foram gerados utilizando :\n",
    "\n",
    "https://faculty.washington.edu/chudler/java/redgreen.html\n",
    "\n",
    "## Este estudo faz parte do curso de Física I Experimental do Instituto de Física da Universidade Federal Fluminense\n",
    "\n",
    "https://portal.if.uff.br/"
   ]
  },
  {
   "cell_type": "code",
   "execution_count": 35,
   "metadata": {
    "scrolled": false
   },
   "outputs": [
    {
     "data": {
      "image/png": "[encoded data removed]",
      "text/plain": [
       "<Figure size 432x288 with 1 Axes>"
      ]
     },
     "metadata": {
      "needs_background": "light"
     },
     "output_type": "display_data"
    }
   ],
   "source": [
    "import matplotlib.pyplot as plt # biblioteca para gráficos \n",
    "import numpy as np              # biblioteca matemática\n",
    "\n",
    "####################################################\n",
    "# definindo fonte\n",
    "####################################################\n",
    "hfont = {'fontname':'Helvetica'}\n",
    "\n",
    "####################################################\n",
    "# incializando o array data com os valores contidos em data.dat\n",
    "####################################################\n",
    "data = np.loadtxt(\"data.dat\",dtype=float) \n",
    "\n",
    "N=data.shape[0] # tamanho do conjunto de dados data.dat\n",
    "                # a função shape da o tamanho do array data\n",
    "\n",
    "####################################################\n",
    "# Cálculo da média\n",
    "####################################################\n",
    "mu = np.sum(data)/float(N)\n",
    "\n",
    "####################################################\n",
    "# Cálculo do desvio padrão\n",
    "####################################################\n",
    "soma=0.0\n",
    "for i in range(N):        # loop por todos os valores de xi\n",
    "    soma+=(data[i]-mu)**2 # (xi - x_medio)^2\n",
    "\n",
    "std=np.sqrt(soma/(float(N)-1)) # desvio padrão.\n",
    "\n",
    "####################################################\n",
    "# Resolução \n",
    "####################################################\n",
    "\n",
    "mu = round(mu,3)    # como a resolução do simulador é 0.001 s\n",
    "                    # a média e o desvio padrão devem ter 3 casas decimais.\n",
    "std = round(std,3)\n",
    "\n",
    "\n",
    "####################################################\n",
    "# Inicializado o gráfico\n",
    "####################################################\n",
    "fig, ax = plt.subplots()\n",
    "\n",
    "####################################################\n",
    "# Ajustando detalhes do gráfico\n",
    "####################################################\n",
    "# descrição eixo-x\n",
    "ax.set_xlabel('Tempo de Reação (s)',fontsize=15,**hfont) \n",
    "\n",
    "# descrição eixo-y\n",
    "ax.set_ylabel('Número de Ocorrências',fontsize=15,**hfont)          \n",
    "\n",
    "# Título do gráfico\n",
    "ax.set_title(r'Histograma Tempo de Reação : $\\overline{t}=%.3f s$'%(mu),fontsize=15,**hfont)\n",
    "\n",
    "# inclui um grid no gráfico\n",
    "plt.grid(True)\n",
    "\n",
    "# Tamanho e tipo das fontes para o eixo x e y\n",
    "plt.xticks(fontsize=12, rotation=0,**hfont)\n",
    "plt.yticks(fontsize=12, rotation=0,**hfont)\n",
    "\n",
    "\n",
    "####################################################\n",
    "# Histograma\n",
    "####################################################\n",
    "# Lista com a largura dos bins. Notem que no meu caso a largura é de 0.025\n",
    "# Testem outros valores para ver como o histograma se modifica.\n",
    "bin_list=[0.225,0.25,0.275,0.3,0.325,0.35,0.375,0.4]\n",
    "\n",
    "####################################################\n",
    "# Criando o histograma\n",
    "####################################################\n",
    "ax.hist(data, bins = bin_list ,density=False,facecolor='green',alpha=0.75,rwidth=0.9)\n",
    "# data é o conjunto de dados\n",
    "# bins é a lista com os intervalos dos bins\n",
    "\n",
    "# rwidth é a largura das barras do gráfico. Estou usando 0.9 para evitar\n",
    "# que as barras fiquem sobrepostas. Testem utilizar 1.0 para ver como fica.\n",
    "\n",
    "\n",
    "####################################################\n",
    "# Gráfico de uma Gaussiana\n",
    "####################################################\n",
    "# Distribuição Gaussiana : https://pt.wikipedia.org/wiki/Distribui%C3%A7%C3%A3o_normal\n",
    "\n",
    "bin_width=bin_list[1]-bin_list[0] # largura do bin\n",
    "\n",
    "x2 = np.linspace(mu - 3*std, mu + 3*std, 100)\n",
    "f = np.exp(-np.square(x2-mu)/(2*np.square(std)))/(std*np.sqrt(2*np.pi))\n",
    "\n",
    "f=f*(bin_width*N)\n",
    "\n",
    "ax.plot(x2,f,color=\"blue\",linestyle=\"--\")\n",
    "\n",
    "####################################################\n",
    "# Incluindo linha vertical para a média\n",
    "####################################################\n",
    "plt.axvline(mu, 0, 15,color=\"red\",linestyle=\"-.\") \n",
    "\n",
    "####################################################\n",
    "# salvando para um arquivo\n",
    "####################################################\n",
    "plt. savefig('histograma-tempo-reacao-gaussiana.jpg', dpi=300, bbox_inches='tight')\n",
    "\n",
    "####################################################\n",
    "# Mostrando o gráfico\n",
    "####################################################\n",
    "plt.show()\n",
    "\n"
   ]
  },
  {
   "cell_type": "code",
   "execution_count": null,
   "metadata": {},
   "outputs": [],
   "source": []
  },
  {
   "cell_type": "code",
   "execution_count": null,
   "metadata": {},
   "outputs": [],
   "source": []
  }
 ],
 "metadata": {
  "kernelspec": {
   "display_name": "Python 3",
   "language": "python",
   "name": "python3"
  },
  "language_info": {
   "codemirror_mode": {
    "name": "ipython",
    "version": 3
   },
   "file_extension": ".py",
   "mimetype": "text/x-python",
   "name": "python",
   "nbconvert_exporter": "python",
   "pygments_lexer": "ipython3",
   "version": "3.7.7"
  }
 },
 "nbformat": 4,
 "nbformat_minor": 4
}
